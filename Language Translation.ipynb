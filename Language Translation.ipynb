{
 "cells": [
  {
   "cell_type": "code",
   "execution_count": 1,
   "id": "83955e02",
   "metadata": {},
   "outputs": [],
   "source": [
    "import string\n",
    "import re\n",
    "from numpy import array,argmax,random,take\n",
    "import pandas as pd\n",
    "from keras.models import Sequential\n",
    "from keras.layers import Dense,LSTM, Embedding, Bidirectional,RepeatVector,TimeDistributed\n",
    "from keras.preprocessing.text import Tokenizer\n",
    "from keras.callbacks import ModelCheckpoint\n",
    "from keras.preprocessing.sequence import pad_sequences\n",
    "from keras.models import load_model\n",
    "from tensorflow.keras import optimizers\n",
    "import matplotlib.pyplot as plt\n",
    "%matplotlib inline\n",
    "pd.set_option('display.max_colwidth',200)"
   ]
  },
  {
   "cell_type": "code",
   "execution_count": 2,
   "id": "e7488981",
   "metadata": {},
   "outputs": [],
   "source": [
    "def read_text(filename):\n",
    "    file=open(filename,mode='rt',encoding='utf-8')\n",
    "    text=file.read()\n",
    "    file.close()\n",
    "    return text"
   ]
  },
  {
   "cell_type": "code",
   "execution_count": 3,
   "id": "d66d8ae4",
   "metadata": {},
   "outputs": [],
   "source": [
    "#split text into sentences\n",
    "def to_lines(text):\n",
    "    sen=text.strip().split('\\n')\n",
    "    sen=[i.split('\\t')for i in sen]\n",
    "    return sen"
   ]
  },
  {
   "cell_type": "code",
   "execution_count": 4,
   "id": "fe4da3ff",
   "metadata": {},
   "outputs": [],
   "source": [
    "data=read_text(r\"C:\\Users\\Hp\\Documents\\deu.txt\")\n",
    "deu_eng=to_lines(data)\n",
    "deu_eng=array(deu_eng)"
   ]
  },
  {
   "cell_type": "code",
   "execution_count": 5,
   "id": "37b26cf2",
   "metadata": {},
   "outputs": [],
   "source": [
    "deu_eng=deu_eng[:8000,:]"
   ]
  },
  {
   "cell_type": "code",
   "execution_count": 6,
   "id": "9013d0eb",
   "metadata": {},
   "outputs": [
    {
     "data": {
      "text/plain": [
       "array([['Go.', 'Geh.',\n",
       "        'CC-BY 2.0 (France) Attribution: tatoeba.org #2877272 (CM) & #8597805 (Roujin)'],\n",
       "       ['Hi.', 'Hallo!',\n",
       "        'CC-BY 2.0 (France) Attribution: tatoeba.org #538123 (CM) & #380701 (cburgmer)'],\n",
       "       ['Hi.', 'Grüß Gott!',\n",
       "        'CC-BY 2.0 (France) Attribution: tatoeba.org #538123 (CM) & #659813 (Esperantostern)'],\n",
       "       ...,\n",
       "       ['Close the book.', 'Mach das Buch zu.',\n",
       "        'CC-BY 2.0 (France) Attribution: tatoeba.org #2245184 (CK) & #3695596 (Esperantostern)'],\n",
       "       ['Close the cage.', 'Mach den Käfig zu.',\n",
       "        'CC-BY 2.0 (France) Attribution: tatoeba.org #7966241 (adiante19) & #8244936 (MisterTrouser)'],\n",
       "       ['Close the cage.', 'Macht den Käfig zu.',\n",
       "        'CC-BY 2.0 (France) Attribution: tatoeba.org #7966241 (adiante19) & #8244938 (MisterTrouser)']],\n",
       "      dtype='<U537')"
      ]
     },
     "execution_count": 6,
     "metadata": {},
     "output_type": "execute_result"
    }
   ],
   "source": [
    "deu_eng"
   ]
  },
  {
   "cell_type": "markdown",
   "id": "22bfba27",
   "metadata": {},
   "source": [
    "#### TEXT TO SEQUENCE CONVERSION\n"
   ]
  },
  {
   "cell_type": "code",
   "execution_count": 7,
   "id": "c1a80d73",
   "metadata": {},
   "outputs": [],
   "source": [
    "eng_1=[]\n",
    "deu_1=[]\n",
    "for i in deu_eng[:,0]:\n",
    "    eng_1.append(len(i.split()))\n",
    "for i in deu_eng[:,1]:\n",
    "    deu_1.append(len(i.split()))\n"
   ]
  },
  {
   "cell_type": "code",
   "execution_count": 8,
   "id": "c11d4060",
   "metadata": {},
   "outputs": [],
   "source": [
    "length_df=pd.DataFrame({'eng':eng_1,'deu':deu_1})"
   ]
  },
  {
   "cell_type": "code",
   "execution_count": 9,
   "id": "3c6333cd",
   "metadata": {},
   "outputs": [
    {
     "data": {
      "image/png": "[encoded data removed]",
      "text/plain": [
       "<Figure size 432x288 with 2 Axes>"
      ]
     },
     "metadata": {
      "needs_background": "light"
     },
     "output_type": "display_data"
    }
   ],
   "source": [
    "length_df.hist(bins=30)\n",
    "plt.show()"
   ]
  },
  {
   "cell_type": "code",
   "execution_count": 10,
   "id": "81157b3a",
   "metadata": {},
   "outputs": [],
   "source": [
    "#function to build a tokenizer\n",
    "def tokenization(lines):\n",
    "    tokenizer=Tokenizer()\n",
    "    tokenizer.fit_on_texts(lines)\n",
    "    return tokenizer"
   ]
  },
  {
   "cell_type": "code",
   "execution_count": 11,
   "id": "b44105a1",
   "metadata": {},
   "outputs": [
    {
     "name": "stdout",
     "output_type": "stream",
     "text": [
      "English Vocabulary size: 1839\n"
     ]
    }
   ],
   "source": [
    "#preparing english tokenizer\n",
    "eng_tokenizer=tokenization(deu_eng[:,0])\n",
    "eng_vocab_size=len(eng_tokenizer.word_index)+1\n",
    "\n",
    "eng_length=8\n",
    "print('English Vocabulary size: %d' % eng_vocab_size )"
   ]
  },
  {
   "cell_type": "code",
   "execution_count": 12,
   "id": "5c795c55",
   "metadata": {},
   "outputs": [
    {
     "name": "stdout",
     "output_type": "stream",
     "text": [
      "Deutch Vocabulary size: 3067\n"
     ]
    }
   ],
   "source": [
    "#preparing German Tokenizer\n",
    "deu_tokenizer=tokenization(deu_eng[:,1])\n",
    "deu_vocab_size=len(deu_tokenizer.word_index)+1\n",
    "deu_length=8\n",
    "print('Deutch Vocabulary size: %d' % deu_vocab_size )"
   ]
  },
  {
   "cell_type": "code",
   "execution_count": 13,
   "id": "6d9a547e",
   "metadata": {},
   "outputs": [],
   "source": [
    "def encode_sequences(tokenizer,length,lines):\n",
    "    seq=tokenizer.texts_to_sequences(lines)\n",
    "    seq=pad_sequences(seq,maxlen=length,padding='post')\n",
    "    return seq"
   ]
  },
  {
   "cell_type": "code",
   "execution_count": 14,
   "id": "0ac30b6c",
   "metadata": {},
   "outputs": [],
   "source": [
    "#model Building\n",
    "from sklearn.model_selection import train_test_split\n",
    "train,test=train_test_split(deu_eng,test_size=0.2, random_state=12)"
   ]
  },
  {
   "cell_type": "code",
   "execution_count": 15,
   "id": "677fedee",
   "metadata": {},
   "outputs": [],
   "source": [
    "trainX=encode_sequences(deu_tokenizer,deu_length,train[:,1])\n",
    "trainY=encode_sequences(eng_tokenizer,eng_length,train[:,0])"
   ]
  },
  {
   "cell_type": "code",
   "execution_count": 16,
   "id": "c2b376e1",
   "metadata": {},
   "outputs": [],
   "source": [
    "testX=encode_sequences(deu_tokenizer,deu_length,test[:,1])\n",
    "testY=encode_sequences(eng_tokenizer,eng_length,test[:,0])"
   ]
  },
  {
   "cell_type": "code",
   "execution_count": 17,
   "id": "676166c7",
   "metadata": {},
   "outputs": [],
   "source": [
    "def build_model(in_vocab,out_vocab,in_timesteps,out_timesteps,units):\n",
    "    model = Sequential()\n",
    "    model.add(Embedding(in_vocab,units,input_length=in_timesteps,mask_zero=True))\n",
    "    model.add(LSTM(units))\n",
    "    model.add(RepeatVector(out_timesteps))\n",
    "    model.add(LSTM(units,return_sequences=True))\n",
    "    model.add(Dense(out_vocab,activation='softmax'))\n",
    "    return model"
   ]
  },
  {
   "cell_type": "code",
   "execution_count": 18,
   "id": "590fb5f4",
   "metadata": {},
   "outputs": [],
   "source": [
    "model=build_model(deu_vocab_size,eng_vocab_size,deu_length,eng_length,512)\n",
    "rms=optimizers.RMSprop(learning_rate=0.001)\n",
    "model.compile(optimizer=rms,loss='sparse_categorical_crossentropy')"
   ]
  },
  {
   "cell_type": "code",
   "execution_count": 19,
   "id": "172a2f3e",
   "metadata": {},
   "outputs": [
    {
     "name": "stdout",
     "output_type": "stream",
     "text": [
      "Epoch 1/30\n",
      "10/10 [==============================] - 23s 2s/step - loss: 3.9945 - val_loss: 2.4482\n",
      "\n",
      "Epoch 00001: val_loss improved from inf to 2.44816, saving model to model.h1.24_shreya\n"
     ]
    },
    {
     "name": "stderr",
     "output_type": "stream",
     "text": [
      "WARNING:absl:Found untraced functions such as lstm_cell_layer_call_and_return_conditional_losses, lstm_cell_layer_call_fn, lstm_cell_1_layer_call_and_return_conditional_losses, lstm_cell_1_layer_call_fn, lstm_cell_layer_call_fn while saving (showing 5 of 10). These functions will not be directly callable after loading.\n"
     ]
    },
    {
     "name": "stdout",
     "output_type": "stream",
     "text": [
      "INFO:tensorflow:Assets written to: model.h1.24_shreya\\assets\n"
     ]
    },
    {
     "name": "stderr",
     "output_type": "stream",
     "text": [
      "INFO:tensorflow:Assets written to: model.h1.24_shreya\\assets\n"
     ]
    },
    {
     "name": "stdout",
     "output_type": "stream",
     "text": [
      "Epoch 2/30\n",
      "10/10 [==============================] - 14s 1s/step - loss: 2.3384 - val_loss: 2.2185\n",
      "\n",
      "Epoch 00002: val_loss improved from 2.44816 to 2.21848, saving model to model.h1.24_shreya\n"
     ]
    },
    {
     "name": "stderr",
     "output_type": "stream",
     "text": [
      "WARNING:absl:Found untraced functions such as lstm_cell_layer_call_and_return_conditional_losses, lstm_cell_layer_call_fn, lstm_cell_1_layer_call_and_return_conditional_losses, lstm_cell_1_layer_call_fn, lstm_cell_layer_call_fn while saving (showing 5 of 10). These functions will not be directly callable after loading.\n"
     ]
    },
    {
     "name": "stdout",
     "output_type": "stream",
     "text": [
      "INFO:tensorflow:Assets written to: model.h1.24_shreya\\assets\n"
     ]
    },
    {
     "name": "stderr",
     "output_type": "stream",
     "text": [
      "INFO:tensorflow:Assets written to: model.h1.24_shreya\\assets\n"
     ]
    },
    {
     "name": "stdout",
     "output_type": "stream",
     "text": [
      "Epoch 3/30\n",
      "10/10 [==============================] - 15s 2s/step - loss: 2.1306 - val_loss: 2.0566\n",
      "\n",
      "Epoch 00003: val_loss improved from 2.21848 to 2.05662, saving model to model.h1.24_shreya\n"
     ]
    },
    {
     "name": "stderr",
     "output_type": "stream",
     "text": [
      "WARNING:absl:Found untraced functions such as lstm_cell_layer_call_and_return_conditional_losses, lstm_cell_layer_call_fn, lstm_cell_1_layer_call_and_return_conditional_losses, lstm_cell_1_layer_call_fn, lstm_cell_layer_call_fn while saving (showing 5 of 10). These functions will not be directly callable after loading.\n"
     ]
    },
    {
     "name": "stdout",
     "output_type": "stream",
     "text": [
      "INFO:tensorflow:Assets written to: model.h1.24_shreya\\assets\n"
     ]
    },
    {
     "name": "stderr",
     "output_type": "stream",
     "text": [
      "INFO:tensorflow:Assets written to: model.h1.24_shreya\\assets\n"
     ]
    },
    {
     "name": "stdout",
     "output_type": "stream",
     "text": [
      "Epoch 4/30\n",
      "10/10 [==============================] - 16s 2s/step - loss: 2.0039 - val_loss: 1.9968\n",
      "\n",
      "Epoch 00004: val_loss improved from 2.05662 to 1.99684, saving model to model.h1.24_shreya\n"
     ]
    },
    {
     "name": "stderr",
     "output_type": "stream",
     "text": [
      "WARNING:absl:Found untraced functions such as lstm_cell_layer_call_and_return_conditional_losses, lstm_cell_layer_call_fn, lstm_cell_1_layer_call_and_return_conditional_losses, lstm_cell_1_layer_call_fn, lstm_cell_layer_call_fn while saving (showing 5 of 10). These functions will not be directly callable after loading.\n"
     ]
    },
    {
     "name": "stdout",
     "output_type": "stream",
     "text": [
      "INFO:tensorflow:Assets written to: model.h1.24_shreya\\assets\n"
     ]
    },
    {
     "name": "stderr",
     "output_type": "stream",
     "text": [
      "INFO:tensorflow:Assets written to: model.h1.24_shreya\\assets\n"
     ]
    },
    {
     "name": "stdout",
     "output_type": "stream",
     "text": [
      "Epoch 5/30\n",
      "10/10 [==============================] - 24s 2s/step - loss: 1.9384 - val_loss: 1.9930\n",
      "\n",
      "Epoch 00005: val_loss improved from 1.99684 to 1.99301, saving model to model.h1.24_shreya\n"
     ]
    },
    {
     "name": "stderr",
     "output_type": "stream",
     "text": [
      "WARNING:absl:Found untraced functions such as lstm_cell_layer_call_and_return_conditional_losses, lstm_cell_layer_call_fn, lstm_cell_1_layer_call_and_return_conditional_losses, lstm_cell_1_layer_call_fn, lstm_cell_layer_call_fn while saving (showing 5 of 10). These functions will not be directly callable after loading.\n"
     ]
    },
    {
     "name": "stdout",
     "output_type": "stream",
     "text": [
      "INFO:tensorflow:Assets written to: model.h1.24_shreya\\assets\n"
     ]
    },
    {
     "name": "stderr",
     "output_type": "stream",
     "text": [
      "INFO:tensorflow:Assets written to: model.h1.24_shreya\\assets\n"
     ]
    },
    {
     "name": "stdout",
     "output_type": "stream",
     "text": [
      "Epoch 6/30\n",
      "10/10 [==============================] - 23s 2s/step - loss: 1.8890 - val_loss: 1.9521\n",
      "\n",
      "Epoch 00006: val_loss improved from 1.99301 to 1.95210, saving model to model.h1.24_shreya\n"
     ]
    },
    {
     "name": "stderr",
     "output_type": "stream",
     "text": [
      "WARNING:absl:Found untraced functions such as lstm_cell_layer_call_and_return_conditional_losses, lstm_cell_layer_call_fn, lstm_cell_1_layer_call_and_return_conditional_losses, lstm_cell_1_layer_call_fn, lstm_cell_layer_call_fn while saving (showing 5 of 10). These functions will not be directly callable after loading.\n"
     ]
    },
    {
     "name": "stdout",
     "output_type": "stream",
     "text": [
      "INFO:tensorflow:Assets written to: model.h1.24_shreya\\assets\n"
     ]
    },
    {
     "name": "stderr",
     "output_type": "stream",
     "text": [
      "INFO:tensorflow:Assets written to: model.h1.24_shreya\\assets\n"
     ]
    },
    {
     "name": "stdout",
     "output_type": "stream",
     "text": [
      "Epoch 7/30\n",
      "10/10 [==============================] - 23s 2s/step - loss: 1.8698 - val_loss: 1.9482\n",
      "\n",
      "Epoch 00007: val_loss improved from 1.95210 to 1.94821, saving model to model.h1.24_shreya\n"
     ]
    },
    {
     "name": "stderr",
     "output_type": "stream",
     "text": [
      "WARNING:absl:Found untraced functions such as lstm_cell_layer_call_and_return_conditional_losses, lstm_cell_layer_call_fn, lstm_cell_1_layer_call_and_return_conditional_losses, lstm_cell_1_layer_call_fn, lstm_cell_layer_call_fn while saving (showing 5 of 10). These functions will not be directly callable after loading.\n"
     ]
    },
    {
     "name": "stdout",
     "output_type": "stream",
     "text": [
      "INFO:tensorflow:Assets written to: model.h1.24_shreya\\assets\n"
     ]
    },
    {
     "name": "stderr",
     "output_type": "stream",
     "text": [
      "INFO:tensorflow:Assets written to: model.h1.24_shreya\\assets\n"
     ]
    },
    {
     "name": "stdout",
     "output_type": "stream",
     "text": [
      "Epoch 8/30\n",
      "10/10 [==============================] - 22s 2s/step - loss: 1.8363 - val_loss: 1.9272\n",
      "\n",
      "Epoch 00008: val_loss improved from 1.94821 to 1.92723, saving model to model.h1.24_shreya\n"
     ]
    },
    {
     "name": "stderr",
     "output_type": "stream",
     "text": [
      "WARNING:absl:Found untraced functions such as lstm_cell_layer_call_and_return_conditional_losses, lstm_cell_layer_call_fn, lstm_cell_1_layer_call_and_return_conditional_losses, lstm_cell_1_layer_call_fn, lstm_cell_layer_call_fn while saving (showing 5 of 10). These functions will not be directly callable after loading.\n"
     ]
    },
    {
     "name": "stdout",
     "output_type": "stream",
     "text": [
      "INFO:tensorflow:Assets written to: model.h1.24_shreya\\assets\n"
     ]
    },
    {
     "name": "stderr",
     "output_type": "stream",
     "text": [
      "INFO:tensorflow:Assets written to: model.h1.24_shreya\\assets\n"
     ]
    },
    {
     "name": "stdout",
     "output_type": "stream",
     "text": [
      "Epoch 9/30\n",
      "10/10 [==============================] - 27s 3s/step - loss: 1.8176 - val_loss: 1.9301\n",
      "\n",
      "Epoch 00009: val_loss did not improve from 1.92723\n",
      "Epoch 10/30\n",
      "10/10 [==============================] - 27s 3s/step - loss: 1.7760 - val_loss: 1.9087\n",
      "\n",
      "Epoch 00010: val_loss improved from 1.92723 to 1.90873, saving model to model.h1.24_shreya\n"
     ]
    },
    {
     "name": "stderr",
     "output_type": "stream",
     "text": [
      "WARNING:absl:Found untraced functions such as lstm_cell_layer_call_and_return_conditional_losses, lstm_cell_layer_call_fn, lstm_cell_1_layer_call_and_return_conditional_losses, lstm_cell_1_layer_call_fn, lstm_cell_layer_call_fn while saving (showing 5 of 10). These functions will not be directly callable after loading.\n"
     ]
    },
    {
     "name": "stdout",
     "output_type": "stream",
     "text": [
      "INFO:tensorflow:Assets written to: model.h1.24_shreya\\assets\n"
     ]
    },
    {
     "name": "stderr",
     "output_type": "stream",
     "text": [
      "INFO:tensorflow:Assets written to: model.h1.24_shreya\\assets\n"
     ]
    },
    {
     "name": "stdout",
     "output_type": "stream",
     "text": [
      "Epoch 11/30\n",
      "10/10 [==============================] - 21s 2s/step - loss: 1.7332 - val_loss: 1.9378\n",
      "\n",
      "Epoch 00011: val_loss did not improve from 1.90873\n",
      "Epoch 12/30\n",
      "10/10 [==============================] - 20s 2s/step - loss: 1.6922 - val_loss: 1.8656\n",
      "\n",
      "Epoch 00012: val_loss improved from 1.90873 to 1.86563, saving model to model.h1.24_shreya\n"
     ]
    },
    {
     "name": "stderr",
     "output_type": "stream",
     "text": [
      "WARNING:absl:Found untraced functions such as lstm_cell_layer_call_and_return_conditional_losses, lstm_cell_layer_call_fn, lstm_cell_1_layer_call_and_return_conditional_losses, lstm_cell_1_layer_call_fn, lstm_cell_layer_call_fn while saving (showing 5 of 10). These functions will not be directly callable after loading.\n"
     ]
    },
    {
     "name": "stdout",
     "output_type": "stream",
     "text": [
      "INFO:tensorflow:Assets written to: model.h1.24_shreya\\assets\n"
     ]
    },
    {
     "name": "stderr",
     "output_type": "stream",
     "text": [
      "INFO:tensorflow:Assets written to: model.h1.24_shreya\\assets\n"
     ]
    },
    {
     "name": "stdout",
     "output_type": "stream",
     "text": [
      "Epoch 13/30\n",
      "10/10 [==============================] - 21s 2s/step - loss: 1.6652 - val_loss: 1.8470\n",
      "\n",
      "Epoch 00013: val_loss improved from 1.86563 to 1.84697, saving model to model.h1.24_shreya\n"
     ]
    },
    {
     "name": "stderr",
     "output_type": "stream",
     "text": [
      "WARNING:absl:Found untraced functions such as lstm_cell_layer_call_and_return_conditional_losses, lstm_cell_layer_call_fn, lstm_cell_1_layer_call_and_return_conditional_losses, lstm_cell_1_layer_call_fn, lstm_cell_layer_call_fn while saving (showing 5 of 10). These functions will not be directly callable after loading.\n"
     ]
    },
    {
     "name": "stdout",
     "output_type": "stream",
     "text": [
      "INFO:tensorflow:Assets written to: model.h1.24_shreya\\assets\n"
     ]
    },
    {
     "name": "stderr",
     "output_type": "stream",
     "text": [
      "INFO:tensorflow:Assets written to: model.h1.24_shreya\\assets\n"
     ]
    },
    {
     "name": "stdout",
     "output_type": "stream",
     "text": [
      "Epoch 14/30\n",
      "10/10 [==============================] - 26s 3s/step - loss: 1.6172 - val_loss: 1.8308\n",
      "\n",
      "Epoch 00014: val_loss improved from 1.84697 to 1.83084, saving model to model.h1.24_shreya\n"
     ]
    },
    {
     "name": "stderr",
     "output_type": "stream",
     "text": [
      "WARNING:absl:Found untraced functions such as lstm_cell_layer_call_and_return_conditional_losses, lstm_cell_layer_call_fn, lstm_cell_1_layer_call_and_return_conditional_losses, lstm_cell_1_layer_call_fn, lstm_cell_layer_call_fn while saving (showing 5 of 10). These functions will not be directly callable after loading.\n"
     ]
    },
    {
     "name": "stdout",
     "output_type": "stream",
     "text": [
      "INFO:tensorflow:Assets written to: model.h1.24_shreya\\assets\n"
     ]
    },
    {
     "name": "stderr",
     "output_type": "stream",
     "text": [
      "INFO:tensorflow:Assets written to: model.h1.24_shreya\\assets\n"
     ]
    },
    {
     "name": "stdout",
     "output_type": "stream",
     "text": [
      "Epoch 15/30\n",
      "10/10 [==============================] - 23s 2s/step - loss: 1.5712 - val_loss: 1.8006\n",
      "\n",
      "Epoch 00015: val_loss improved from 1.83084 to 1.80056, saving model to model.h1.24_shreya\n"
     ]
    },
    {
     "name": "stderr",
     "output_type": "stream",
     "text": [
      "WARNING:absl:Found untraced functions such as lstm_cell_layer_call_and_return_conditional_losses, lstm_cell_layer_call_fn, lstm_cell_1_layer_call_and_return_conditional_losses, lstm_cell_1_layer_call_fn, lstm_cell_layer_call_fn while saving (showing 5 of 10). These functions will not be directly callable after loading.\n"
     ]
    },
    {
     "name": "stdout",
     "output_type": "stream",
     "text": [
      "INFO:tensorflow:Assets written to: model.h1.24_shreya\\assets\n"
     ]
    },
    {
     "name": "stderr",
     "output_type": "stream",
     "text": [
      "INFO:tensorflow:Assets written to: model.h1.24_shreya\\assets\n"
     ]
    },
    {
     "name": "stdout",
     "output_type": "stream",
     "text": [
      "Epoch 16/30\n",
      "10/10 [==============================] - 22s 2s/step - loss: 1.5289 - val_loss: 1.7368\n",
      "\n",
      "Epoch 00016: val_loss improved from 1.80056 to 1.73684, saving model to model.h1.24_shreya\n"
     ]
    },
    {
     "name": "stderr",
     "output_type": "stream",
     "text": [
      "WARNING:absl:Found untraced functions such as lstm_cell_layer_call_and_return_conditional_losses, lstm_cell_layer_call_fn, lstm_cell_1_layer_call_and_return_conditional_losses, lstm_cell_1_layer_call_fn, lstm_cell_layer_call_fn while saving (showing 5 of 10). These functions will not be directly callable after loading.\n"
     ]
    },
    {
     "name": "stdout",
     "output_type": "stream",
     "text": [
      "INFO:tensorflow:Assets written to: model.h1.24_shreya\\assets\n"
     ]
    },
    {
     "name": "stderr",
     "output_type": "stream",
     "text": [
      "INFO:tensorflow:Assets written to: model.h1.24_shreya\\assets\n"
     ]
    },
    {
     "name": "stdout",
     "output_type": "stream",
     "text": [
      "Epoch 17/30\n",
      "10/10 [==============================] - 26s 3s/step - loss: 1.4917 - val_loss: 1.7427\n",
      "\n",
      "Epoch 00017: val_loss did not improve from 1.73684\n",
      "Epoch 18/30\n",
      "10/10 [==============================] - 27s 3s/step - loss: 1.4496 - val_loss: 1.7204\n",
      "\n",
      "Epoch 00018: val_loss improved from 1.73684 to 1.72041, saving model to model.h1.24_shreya\n"
     ]
    },
    {
     "name": "stderr",
     "output_type": "stream",
     "text": [
      "WARNING:absl:Found untraced functions such as lstm_cell_layer_call_and_return_conditional_losses, lstm_cell_layer_call_fn, lstm_cell_1_layer_call_and_return_conditional_losses, lstm_cell_1_layer_call_fn, lstm_cell_layer_call_fn while saving (showing 5 of 10). These functions will not be directly callable after loading.\n"
     ]
    },
    {
     "name": "stdout",
     "output_type": "stream",
     "text": [
      "INFO:tensorflow:Assets written to: model.h1.24_shreya\\assets\n"
     ]
    },
    {
     "name": "stderr",
     "output_type": "stream",
     "text": [
      "INFO:tensorflow:Assets written to: model.h1.24_shreya\\assets\n"
     ]
    },
    {
     "name": "stdout",
     "output_type": "stream",
     "text": [
      "Epoch 19/30\n",
      "10/10 [==============================] - 26s 3s/step - loss: 1.3929 - val_loss: 1.7257\n",
      "\n",
      "Epoch 00019: val_loss did not improve from 1.72041\n",
      "Epoch 20/30\n",
      "10/10 [==============================] - 27s 3s/step - loss: 1.3748 - val_loss: 1.6729\n",
      "\n",
      "Epoch 00020: val_loss improved from 1.72041 to 1.67288, saving model to model.h1.24_shreya\n"
     ]
    },
    {
     "name": "stderr",
     "output_type": "stream",
     "text": [
      "WARNING:absl:Found untraced functions such as lstm_cell_layer_call_and_return_conditional_losses, lstm_cell_layer_call_fn, lstm_cell_1_layer_call_and_return_conditional_losses, lstm_cell_1_layer_call_fn, lstm_cell_layer_call_fn while saving (showing 5 of 10). These functions will not be directly callable after loading.\n"
     ]
    },
    {
     "name": "stdout",
     "output_type": "stream",
     "text": [
      "INFO:tensorflow:Assets written to: model.h1.24_shreya\\assets\n"
     ]
    },
    {
     "name": "stderr",
     "output_type": "stream",
     "text": [
      "INFO:tensorflow:Assets written to: model.h1.24_shreya\\assets\n"
     ]
    },
    {
     "name": "stdout",
     "output_type": "stream",
     "text": [
      "Epoch 21/30\n",
      "10/10 [==============================] - 25s 3s/step - loss: 1.3175 - val_loss: 1.7188\n",
      "\n",
      "Epoch 00021: val_loss did not improve from 1.67288\n",
      "Epoch 22/30\n",
      "10/10 [==============================] - 25s 3s/step - loss: 1.3018 - val_loss: 1.6777\n",
      "\n",
      "Epoch 00022: val_loss did not improve from 1.67288\n",
      "Epoch 23/30\n",
      "10/10 [==============================] - 25s 3s/step - loss: 1.2549 - val_loss: 1.6471\n",
      "\n",
      "Epoch 00023: val_loss improved from 1.67288 to 1.64706, saving model to model.h1.24_shreya\n"
     ]
    },
    {
     "name": "stderr",
     "output_type": "stream",
     "text": [
      "WARNING:absl:Found untraced functions such as lstm_cell_layer_call_and_return_conditional_losses, lstm_cell_layer_call_fn, lstm_cell_1_layer_call_and_return_conditional_losses, lstm_cell_1_layer_call_fn, lstm_cell_layer_call_fn while saving (showing 5 of 10). These functions will not be directly callable after loading.\n"
     ]
    },
    {
     "name": "stdout",
     "output_type": "stream",
     "text": [
      "INFO:tensorflow:Assets written to: model.h1.24_shreya\\assets\n"
     ]
    },
    {
     "name": "stderr",
     "output_type": "stream",
     "text": [
      "INFO:tensorflow:Assets written to: model.h1.24_shreya\\assets\n"
     ]
    },
    {
     "name": "stdout",
     "output_type": "stream",
     "text": [
      "Epoch 24/30\n",
      "10/10 [==============================] - 26s 3s/step - loss: 1.2238 - val_loss: 1.6707\n",
      "\n",
      "Epoch 00024: val_loss did not improve from 1.64706\n",
      "Epoch 25/30\n",
      "10/10 [==============================] - 26s 3s/step - loss: 1.1884 - val_loss: 1.6112\n",
      "\n",
      "Epoch 00025: val_loss improved from 1.64706 to 1.61125, saving model to model.h1.24_shreya\n"
     ]
    },
    {
     "name": "stderr",
     "output_type": "stream",
     "text": [
      "WARNING:absl:Found untraced functions such as lstm_cell_layer_call_and_return_conditional_losses, lstm_cell_layer_call_fn, lstm_cell_1_layer_call_and_return_conditional_losses, lstm_cell_1_layer_call_fn, lstm_cell_layer_call_fn while saving (showing 5 of 10). These functions will not be directly callable after loading.\n"
     ]
    },
    {
     "name": "stdout",
     "output_type": "stream",
     "text": [
      "INFO:tensorflow:Assets written to: model.h1.24_shreya\\assets\n"
     ]
    },
    {
     "name": "stderr",
     "output_type": "stream",
     "text": [
      "INFO:tensorflow:Assets written to: model.h1.24_shreya\\assets\n"
     ]
    },
    {
     "name": "stdout",
     "output_type": "stream",
     "text": [
      "Epoch 26/30\n",
      "10/10 [==============================] - 28s 3s/step - loss: 1.1629 - val_loss: 1.5848\n",
      "\n",
      "Epoch 00026: val_loss improved from 1.61125 to 1.58483, saving model to model.h1.24_shreya\n"
     ]
    },
    {
     "name": "stderr",
     "output_type": "stream",
     "text": [
      "WARNING:absl:Found untraced functions such as lstm_cell_layer_call_and_return_conditional_losses, lstm_cell_layer_call_fn, lstm_cell_1_layer_call_and_return_conditional_losses, lstm_cell_1_layer_call_fn, lstm_cell_layer_call_fn while saving (showing 5 of 10). These functions will not be directly callable after loading.\n"
     ]
    },
    {
     "name": "stdout",
     "output_type": "stream",
     "text": [
      "INFO:tensorflow:Assets written to: model.h1.24_shreya\\assets\n"
     ]
    },
    {
     "name": "stderr",
     "output_type": "stream",
     "text": [
      "INFO:tensorflow:Assets written to: model.h1.24_shreya\\assets\n"
     ]
    },
    {
     "name": "stdout",
     "output_type": "stream",
     "text": [
      "Epoch 27/30\n",
      "10/10 [==============================] - 29s 3s/step - loss: 1.1309 - val_loss: 1.5667\n",
      "\n",
      "Epoch 00027: val_loss improved from 1.58483 to 1.56669, saving model to model.h1.24_shreya\n"
     ]
    },
    {
     "name": "stderr",
     "output_type": "stream",
     "text": [
      "WARNING:absl:Found untraced functions such as lstm_cell_layer_call_and_return_conditional_losses, lstm_cell_layer_call_fn, lstm_cell_1_layer_call_and_return_conditional_losses, lstm_cell_1_layer_call_fn, lstm_cell_layer_call_fn while saving (showing 5 of 10). These functions will not be directly callable after loading.\n"
     ]
    },
    {
     "name": "stdout",
     "output_type": "stream",
     "text": [
      "INFO:tensorflow:Assets written to: model.h1.24_shreya\\assets\n"
     ]
    },
    {
     "name": "stderr",
     "output_type": "stream",
     "text": [
      "INFO:tensorflow:Assets written to: model.h1.24_shreya\\assets\n"
     ]
    },
    {
     "name": "stdout",
     "output_type": "stream",
     "text": [
      "Epoch 28/30\n",
      "10/10 [==============================] - 27s 3s/step - loss: 1.1021 - val_loss: 1.5646\n",
      "\n",
      "Epoch 00028: val_loss improved from 1.56669 to 1.56457, saving model to model.h1.24_shreya\n"
     ]
    },
    {
     "name": "stderr",
     "output_type": "stream",
     "text": [
      "WARNING:absl:Found untraced functions such as lstm_cell_layer_call_and_return_conditional_losses, lstm_cell_layer_call_fn, lstm_cell_1_layer_call_and_return_conditional_losses, lstm_cell_1_layer_call_fn, lstm_cell_layer_call_fn while saving (showing 5 of 10). These functions will not be directly callable after loading.\n"
     ]
    },
    {
     "name": "stdout",
     "output_type": "stream",
     "text": [
      "INFO:tensorflow:Assets written to: model.h1.24_shreya\\assets\n"
     ]
    },
    {
     "name": "stderr",
     "output_type": "stream",
     "text": [
      "INFO:tensorflow:Assets written to: model.h1.24_shreya\\assets\n"
     ]
    },
    {
     "name": "stdout",
     "output_type": "stream",
     "text": [
      "Epoch 29/30\n",
      "10/10 [==============================] - 27s 3s/step - loss: 1.0661 - val_loss: 1.5896\n",
      "\n",
      "Epoch 00029: val_loss did not improve from 1.56457\n",
      "Epoch 30/30\n",
      "10/10 [==============================] - 29s 3s/step - loss: 1.0362 - val_loss: 1.5775\n",
      "\n",
      "Epoch 00030: val_loss did not improve from 1.56457\n"
     ]
    }
   ],
   "source": [
    "filename='model.h1.24_shreya'\n",
    "checkpoint=ModelCheckpoint(filename,monitor='val_loss',verbose=1,save_best_only=True,mode='min')\n",
    "history=model.fit(trainX,trainY.reshape(trainY.shape[0],trainY.shape[1],1),\n",
    "                 epochs=30,batch_size=512,\n",
    "                 validation_split=0.2,\n",
    "                 callbacks=[checkpoint],verbose=1)"
   ]
  },
  {
   "cell_type": "code",
   "execution_count": 20,
   "id": "ec60b1c4",
   "metadata": {},
   "outputs": [
    {
     "data": {
      "image/png": "[encoded data removed]",
      "text/plain": [
       "<Figure size 432x288 with 1 Axes>"
      ]
     },
     "metadata": {
      "needs_background": "light"
     },
     "output_type": "display_data"
    }
   ],
   "source": [
    "plt.plot(history.history['loss'])\n",
    "plt.plot(history.history['val_loss'])\n",
    "plt.legend(['train','validation'])\n",
    "plt.show()"
   ]
  },
  {
   "cell_type": "code",
   "execution_count": 21,
   "id": "edfebb39",
   "metadata": {},
   "outputs": [],
   "source": [
    "import numpy as np\n",
    "model=load_model('model.h1.24_shreya')\n",
    "preds= np.argmax(model.predict(testX.reshape(testX.shape[0],testX.shape[1])),axis=1)\n"
   ]
  },
  {
   "cell_type": "code",
   "execution_count": 22,
   "id": "7029e7df",
   "metadata": {},
   "outputs": [],
   "source": [
    "def get_word(n,tokenizer):\n",
    "    for word,index in tokenizer.word_index.items():\n",
    "        if index==n:\n",
    "            return word\n",
    "    return None"
   ]
  },
  {
   "cell_type": "code",
   "execution_count": 23,
   "id": "1843e3f1",
   "metadata": {},
   "outputs": [],
   "source": [
    "preds_text=[]\n",
    "for i in preds:\n",
    "    temp=[]\n",
    "    for j in range(len(i)):\n",
    "        t=get_word(i[j],eng_tokenizer)\n",
    "        if j>0:\n",
    "            if(t==get_word(i[j-1],eng_tokenizer)) or (t==None):\n",
    "                temp.append('')\n",
    "            else:\n",
    "                temp.append(t)\n",
    "        else:\n",
    "            if(t==None):\n",
    "                temp.append('')\n",
    "            else:\n",
    "                temp.append(t)\n",
    "    preds_text.append(''.join(temp))"
   ]
  },
  {
   "cell_type": "code",
   "execution_count": 24,
   "id": "a785d153",
   "metadata": {},
   "outputs": [],
   "source": [
    "pred_df=pd.DataFrame({'actual':test[:,0],'predicted':preds_text})"
   ]
  },
  {
   "cell_type": "code",
   "execution_count": 25,
   "id": "8fa4c736",
   "metadata": {},
   "outputs": [],
   "source": [
    "pd.set_option('display.max_colwidth',200)"
   ]
  },
  {
   "cell_type": "code",
   "execution_count": 26,
   "id": "3cb2f119",
   "metadata": {},
   "outputs": [
    {
     "data": {
      "text/html": [
       "<div>\n",
       "<style scoped>\n",
       "    .dataframe tbody tr th:only-of-type {\n",
       "        vertical-align: middle;\n",
       "    }\n",
       "\n",
       "    .dataframe tbody tr th {\n",
       "        vertical-align: top;\n",
       "    }\n",
       "\n",
       "    .dataframe thead th {\n",
       "        text-align: right;\n",
       "    }\n",
       "</style>\n",
       "<table border=\"1\" class=\"dataframe\">\n",
       "  <thead>\n",
       "    <tr style=\"text-align: right;\">\n",
       "      <th></th>\n",
       "      <th>actual</th>\n",
       "      <th>predicted</th>\n",
       "    </tr>\n",
       "  </thead>\n",
       "  <tbody>\n",
       "    <tr>\n",
       "      <th>0</th>\n",
       "      <td>That's OK.</td>\n",
       "      <td>atomiitomitomiitomtomtomiitomtomitomiiitomitomiiiitomitomtomiitomiitomitomitomitomitomiitomitomitomitomtomitomiitomiitomiitomiitomtomitomitomitomitomitomitomitomitomtomitomitomitomitomiitomitomito...</td>\n",
       "    </tr>\n",
       "    <tr>\n",
       "      <th>1</th>\n",
       "      <td>I am American.</td>\n",
       "      <td>atomiiiitomiitomiitomiitomitomitomiiiitomtomitomitomitomitomitomitomitomitomitomitomitomitomitomitomiiitomitomitomitomiitomitomiitomitomitomitomitomitomitomitomitomitomitomitomitomitomitomiiitomit...</td>\n",
       "    </tr>\n",
       "    <tr>\n",
       "      <th>2</th>\n",
       "      <td>I'm eating.</td>\n",
       "      <td>atomitomiitomitomitomiitomitomitomitomitomiitomitomitomiiitomtomitomitomitomitomitomitomitomitomitomitomitomitomitomitomitomitomitomitomitomitomitomiitomitomitomitomitomitomitomitomitomitomitomito...</td>\n",
       "    </tr>\n",
       "    <tr>\n",
       "      <th>3</th>\n",
       "      <td>They're cold.</td>\n",
       "      <td>aiiiiitomiiiiiiitomitomiiitomitomitomitomiitomitomitomitomitomitomitomitomtomtomitomitomtomiitomitomiitomitomitomtomtomitomitomitomitomitomtomitomitomitomtomtomitomitomitomiitomitomitomitomtomiito...</td>\n",
       "    </tr>\n",
       "    <tr>\n",
       "      <th>4</th>\n",
       "      <td>Be sensible.</td>\n",
       "      <td>aiiiiiiiiiiiiiiiiiiiiiiiiiiiiiiiiiiiiiiiiiiiiiiiiiiiiiiiiiiiiiiiiiiiiiiiiiiitomiiitomitomiiiiiitomiiiiiiiiiiiiiiiiiiiiiiiiiiiiiiitomiiitomiiiiiiitomiiiiiiiiiiiiiiiitomiiiiiiiiiiiiiiiiiiiiiiiiiiiii...</td>\n",
       "    </tr>\n",
       "    <tr>\n",
       "      <th>5</th>\n",
       "      <td>It was pretty.</td>\n",
       "      <td>aitomitomtomtomitomtomitomtomtomitomiitomitomitomitomiitomtomitomitomtomitomtomitomitomitomitomitomtomtomitomitomititomitomitomiitomitomtomitomtomitomitomiititomitomtomitomtomitomitomtomitomtomtom...</td>\n",
       "    </tr>\n",
       "    <tr>\n",
       "      <th>6</th>\n",
       "      <td>I'll tell Tom.</td>\n",
       "      <td>atomitomitomitomitomitomiitomiitomtomitomiitomitomitomitomiiitomitomtomitomitomitomitomitomitomitomitomitomitomitomitomitomitomitomitomitomitomiitomitomitomitomitomitomitomitomitomitomitomitomitom...</td>\n",
       "    </tr>\n",
       "    <tr>\n",
       "      <th>7</th>\n",
       "      <td>OK. Go ahead.</td>\n",
       "      <td>aiiiiiiiiiiiiiiiiiiiiiiiiiiiiiiiiiiiiiiiiiiiiiiiiiiiiiiiiiiiiiiiiiiiiiiiiiiiiitomiiitomitomiiiiiiiiiiiiiiiiiiiiiiiiiiiiiiiiiiitomiiiiiiiiiiitomiiiiiiiiiiiitomiiiitomiiiiiiiiiiiiiiiiiiiiiiiiiiiiiii...</td>\n",
       "    </tr>\n",
       "    <tr>\n",
       "      <th>8</th>\n",
       "      <td>Aim. Fire!</td>\n",
       "      <td>aiiiiiiiiiiiiiiiiiiiiiiiiiiiiiiiiiiiiiiiiiiiiiiiiiiiiiiiiiiiiiiiiiiiiiiiiiiiiiiiiiiiiii</td>\n",
       "    </tr>\n",
       "    <tr>\n",
       "      <th>9</th>\n",
       "      <td>Bring it here.</td>\n",
       "      <td>atomiitomitomitomtomitomtomitomtomtomitomiitomitomtomitomiiiitomitomtomitomitomitomitomtomitomitomitomitomitomitomitomitomtomitomitomtomitomitomitomitomiitomtomitomtomtomitomitomiititomitomtomitom...</td>\n",
       "    </tr>\n",
       "    <tr>\n",
       "      <th>10</th>\n",
       "      <td>You are big.</td>\n",
       "      <td>aitomiiitomtomiiiiiiitomtomitomiiitomitomtomitomitomitomitomtomitomitomitomitomitomitomtomtomitomitomtomiitomiitomitomtomitomtomtomitomitomitomitomitomtomitomtomitomtomtomitomitomitomiitomitomitom...</td>\n",
       "    </tr>\n",
       "    <tr>\n",
       "      <th>11</th>\n",
       "      <td>How exciting!</td>\n",
       "      <td>aiiiiiiiiiiiiiiitomiiiiiiitomiiiiiitomiiiiitomitomitomiiiitomiitomiiiiiiiitomiitomiiiitomiiiiitomitomiitomiiitomiitomiitomiiiitomiitomitomitomiitomiitomiiiitomiiitomiiitomtomitomiiiiiiiiiitomitomi...</td>\n",
       "    </tr>\n",
       "    <tr>\n",
       "      <th>12</th>\n",
       "      <td>Hug me.</td>\n",
       "      <td>aiiiittomtomiitomtomitomitomtomitiitomiitiitiiiitomittomiittomtomititomitomitomitomiittomitomitomitomittomitomiittomittomittomitomiitomittomitiititomiittomiitomitomtomitomtomitomitomitomiititomiti...</td>\n",
       "    </tr>\n",
       "    <tr>\n",
       "      <th>13</th>\n",
       "      <td>Tom's missing.</td>\n",
       "      <td>aitomiitomitomitomitomitomtomiitomitomiiitomitomiiitomitomtomitomitomiitomitomitomitomitomitomitomitomitomiiiitomitomitomiitomiitomitomitomitomitomitomitomitomitomitomitomitomiiitomiitomitomitomit...</td>\n",
       "    </tr>\n",
       "    <tr>\n",
       "      <th>14</th>\n",
       "      <td>I wrote that.</td>\n",
       "      <td>atomiiiitomtomtomiitomtomitomtomtomiitomitomitomiiiitomtomitomitomtomitomitomitomitomitomitomitomitomitomitomitomitomiitomitomitomitomitomiitomitomtomitomtomitomitomitomitomitomitomitomitomitomito...</td>\n",
       "    </tr>\n",
       "  </tbody>\n",
       "</table>\n",
       "</div>"
      ],
      "text/plain": [
       "            actual  \\\n",
       "0       That's OK.   \n",
       "1   I am American.   \n",
       "2      I'm eating.   \n",
       "3    They're cold.   \n",
       "4     Be sensible.   \n",
       "5   It was pretty.   \n",
       "6   I'll tell Tom.   \n",
       "7    OK. Go ahead.   \n",
       "8       Aim. Fire!   \n",
       "9   Bring it here.   \n",
       "10    You are big.   \n",
       "11   How exciting!   \n",
       "12         Hug me.   \n",
       "13  Tom's missing.   \n",
       "14   I wrote that.   \n",
       "\n",
       "                                                                                                                                                                                                  predicted  \n",
       "0   atomiitomitomiitomtomtomiitomtomitomiiitomitomiiiitomitomtomiitomiitomitomitomitomitomiitomitomitomitomtomitomiitomiitomiitomiitomtomitomitomitomitomitomitomitomitomtomitomitomitomitomiitomitomito...  \n",
       "1   atomiiiitomiitomiitomiitomitomitomiiiitomtomitomitomitomitomitomitomitomitomitomitomitomitomitomitomiiitomitomitomitomiitomitomiitomitomitomitomitomitomitomitomitomitomitomitomitomitomitomiiitomit...  \n",
       "2   atomitomiitomitomitomiitomitomitomitomitomiitomitomitomiiitomtomitomitomitomitomitomitomitomitomitomitomitomitomitomitomitomitomitomitomitomitomitomiitomitomitomitomitomitomitomitomitomitomitomito...  \n",
       "3   aiiiiitomiiiiiiitomitomiiitomitomitomitomiitomitomitomitomitomitomitomitomtomtomitomitomtomiitomitomiitomitomitomtomtomitomitomitomitomitomtomitomitomitomtomtomitomitomitomiitomitomitomitomtomiito...  \n",
       "4   aiiiiiiiiiiiiiiiiiiiiiiiiiiiiiiiiiiiiiiiiiiiiiiiiiiiiiiiiiiiiiiiiiiiiiiiiiiitomiiitomitomiiiiiitomiiiiiiiiiiiiiiiiiiiiiiiiiiiiiiitomiiitomiiiiiiitomiiiiiiiiiiiiiiiitomiiiiiiiiiiiiiiiiiiiiiiiiiiiii...  \n",
       "5   aitomitomtomtomitomtomitomtomtomitomiitomitomitomitomiitomtomitomitomtomitomtomitomitomitomitomitomtomtomitomitomititomitomitomiitomitomtomitomtomitomitomiititomitomtomitomtomitomitomtomitomtomtom...  \n",
       "6   atomitomitomitomitomitomiitomiitomtomitomiitomitomitomitomiiitomitomtomitomitomitomitomitomitomitomitomitomitomitomitomitomitomitomitomitomitomiitomitomitomitomitomitomitomitomitomitomitomitomitom...  \n",
       "7   aiiiiiiiiiiiiiiiiiiiiiiiiiiiiiiiiiiiiiiiiiiiiiiiiiiiiiiiiiiiiiiiiiiiiiiiiiiiiitomiiitomitomiiiiiiiiiiiiiiiiiiiiiiiiiiiiiiiiiiitomiiiiiiiiiiitomiiiiiiiiiiiitomiiiitomiiiiiiiiiiiiiiiiiiiiiiiiiiiiiii...  \n",
       "8                                                                                                                   aiiiiiiiiiiiiiiiiiiiiiiiiiiiiiiiiiiiiiiiiiiiiiiiiiiiiiiiiiiiiiiiiiiiiiiiiiiiiiiiiiiiiii  \n",
       "9   atomiitomitomitomtomitomtomitomtomtomitomiitomitomtomitomiiiitomitomtomitomitomitomitomtomitomitomitomitomitomitomitomitomtomitomitomtomitomitomitomitomiitomtomitomtomtomitomitomiititomitomtomitom...  \n",
       "10  aitomiiitomtomiiiiiiitomtomitomiiitomitomtomitomitomitomitomtomitomitomitomitomitomitomtomtomitomitomtomiitomiitomitomtomitomtomtomitomitomitomitomitomtomitomtomitomtomtomitomitomitomiitomitomitom...  \n",
       "11  aiiiiiiiiiiiiiiitomiiiiiiitomiiiiiitomiiiiitomitomitomiiiitomiitomiiiiiiiitomiitomiiiitomiiiiitomitomiitomiiitomiitomiitomiiiitomiitomitomitomiitomiitomiiiitomiiitomiiitomtomitomiiiiiiiiiitomitomi...  \n",
       "12  aiiiittomtomiitomtomitomitomtomitiitomiitiitiiiitomittomiittomtomititomitomitomitomiittomitomitomitomittomitomiittomittomittomitomiitomittomitiititomiittomiitomitomtomitomtomitomitomitomiititomiti...  \n",
       "13  aitomiitomitomitomitomitomtomiitomitomiiitomitomiiitomitomtomitomitomiitomitomitomitomitomitomitomitomitomiiiitomitomitomiitomiitomitomitomitomitomitomitomitomitomitomitomitomiiitomiitomitomitomit...  \n",
       "14  atomiiiitomtomtomiitomtomitomtomtomiitomitomitomiiiitomtomitomitomtomitomitomitomitomitomitomitomitomitomitomitomitomiitomitomitomitomitomiitomitomtomitomtomitomitomitomitomitomitomitomitomitomito...  "
      ]
     },
     "execution_count": 26,
     "metadata": {},
     "output_type": "execute_result"
    }
   ],
   "source": [
    "pred_df.head(15)"
   ]
  },
  {
   "cell_type": "code",
   "execution_count": 27,
   "id": "89afcdf6",
   "metadata": {},
   "outputs": [
    {
     "data": {
      "text/html": [
       "<div>\n",
       "<style scoped>\n",
       "    .dataframe tbody tr th:only-of-type {\n",
       "        vertical-align: middle;\n",
       "    }\n",
       "\n",
       "    .dataframe tbody tr th {\n",
       "        vertical-align: top;\n",
       "    }\n",
       "\n",
       "    .dataframe thead th {\n",
       "        text-align: right;\n",
       "    }\n",
       "</style>\n",
       "<table border=\"1\" class=\"dataframe\">\n",
       "  <thead>\n",
       "    <tr style=\"text-align: right;\">\n",
       "      <th></th>\n",
       "      <th>actual</th>\n",
       "      <th>predicted</th>\n",
       "    </tr>\n",
       "  </thead>\n",
       "  <tbody>\n",
       "    <tr>\n",
       "      <th>1585</th>\n",
       "      <td>I looked down.</td>\n",
       "      <td>atomitomitomitomitomiitomitomitomitomiitomitomitomitomiiitomitomtomitomitomitomitomitomitomitomitomitomitomitomitomitomitomitomitomitomiitomitomiitomitomitomitomiititomitomitomitomitomitomitomitit...</td>\n",
       "    </tr>\n",
       "    <tr>\n",
       "      <th>1586</th>\n",
       "      <td>I need a coat.</td>\n",
       "      <td>atomitomitomititomitomitomiiititomitomtomiititomiitomitomitiititomitomiitomittomititomitomittomitomitiitiittomiititomitomittomitomitomititomittomitomittomiittomittomitomiititomitiittomitomiittomii...</td>\n",
       "    </tr>\n",
       "    <tr>\n",
       "      <th>1587</th>\n",
       "      <td>Send it to me.</td>\n",
       "      <td>atomitomiiiitomtomitomtomtomitomitomtomitomtomitomiiiitomitomtomitomitomitomitomtomitomitomitomitomitomitomtomtomtomitomitomtomiitomitomiitomitomtomitomtomtomitomitomiititomitomtomitomitomitomtomt...</td>\n",
       "    </tr>\n",
       "    <tr>\n",
       "      <th>1588</th>\n",
       "      <td>Let's walk.</td>\n",
       "      <td>aitomiiiitomiiiiiiiitomtomitomiiitomitomiitomiiitomitomiitomitomitomiitomiiiitomitomiitomiitomiitomitomitomitomiitomitomiitomitomitomitomtomiitomiiiitomitomiitomitomiitomitomitomitomiitomitomitomi...</td>\n",
       "    </tr>\n",
       "    <tr>\n",
       "      <th>1589</th>\n",
       "      <td>Tom is frugal.</td>\n",
       "      <td>aitomitomitomitomtomitomitomtomitomtomtomitomitomtomitomtomitomtomitomiitomtomitomitomitomitomtomitomitomitomitomitomitomitomitomitomitomitomitomitomiitomitomtomitomtomitomitomitomitomitomtomitomi...</td>\n",
       "    </tr>\n",
       "    <tr>\n",
       "      <th>1590</th>\n",
       "      <td>It hurts.</td>\n",
       "      <td>aiiiitomiiiiitomitomtomitomitomiiiitomitomiiiiiiitomitomiiiiiiiiitomiiiiiitomiiiiiitomiiiiiiiiiiiiiitomiiiitomiitomiiiitomiiiiiiitomiiiitomtomiitomtomiiiiitomiiiiiiiiiiiiiiiiiiitomiiiiiiiiiiiiiiii...</td>\n",
       "    </tr>\n",
       "    <tr>\n",
       "      <th>1591</th>\n",
       "      <td>Tom isn't old.</td>\n",
       "      <td>aitomitomitomitomtomitomitomtomitomtomtomitomitomtomitomtomitomtomitomitomitomitomtomitomitomitomitomtomitomitomtomitomitomitomitomitomitomitomitomitomiitomitomtomitomtomitomitomitomitomitomtomito...</td>\n",
       "    </tr>\n",
       "    <tr>\n",
       "      <th>1592</th>\n",
       "      <td>Tom was dying.</td>\n",
       "      <td>aitomitomitomitomtomitomitomtomitomtomitomitomiitomitomitomtomitomitomitomtomitomitomitomitomtomitomitomitomitomitomitomitomitomitomitomititomitomitomitomiitomitomtomitomitomitomitomiititomitomito...</td>\n",
       "    </tr>\n",
       "    <tr>\n",
       "      <th>1593</th>\n",
       "      <td>Tom is my dad.</td>\n",
       "      <td>aitomitomiititomitomitomtomitomtomtomitomiitomitomittomitomtomitomiitomittomitomitomitomititomtomitomitomitomitomitomitomitomitomittomittomitomitomitiittomitomitomitomiitomitomtomitomitomitomitomi...</td>\n",
       "    </tr>\n",
       "    <tr>\n",
       "      <th>1594</th>\n",
       "      <td>I'll manage.</td>\n",
       "      <td>atomiitomiitomitomitomiitomitomtomitomiitomitomitomiiiitomtomitomitomitomitomitomitomitomitomitomitomitomitomitomitomitomiitomitomitomitomitomitomiiitomitomitomitomitomitomitomitomitomitomitomitom...</td>\n",
       "    </tr>\n",
       "    <tr>\n",
       "      <th>1595</th>\n",
       "      <td>It's my fault.</td>\n",
       "      <td>atomiitomitomiitomitomiitomiitomitomitomiiiitomtomitomitomitomitomitomitomitomiitomitomiitomitomiitomitomitomitomitomitomitomitomitomitomitomitomiiitomitomitomitomitomitomitomitomitomitomiitomitom...</td>\n",
       "    </tr>\n",
       "    <tr>\n",
       "      <th>1596</th>\n",
       "      <td>I'm using it.</td>\n",
       "      <td>atomitomitomitomitomitomiitomitomitomitomitomiitomitomitomiiitomtomitomitomitomitomitomitomitomitomitomitomitomitomitomitomitomiitomitomititomitomitomiitomitomitomitomitomitomitomiititomitomitomit...</td>\n",
       "    </tr>\n",
       "    <tr>\n",
       "      <th>1597</th>\n",
       "      <td>I want that.</td>\n",
       "      <td>atomitomitomitomitomitomitomitomitomitomitomitomittomititomittomitomitomitomittomitomitomittomitomitomititomitomitomitomittomitomitomitiittomitomiittomitomititomitomitomtomitomitomiititomitomitomi...</td>\n",
       "    </tr>\n",
       "    <tr>\n",
       "      <th>1598</th>\n",
       "      <td>That's a fake.</td>\n",
       "      <td>aitomiiitiiitomittomiitomitomiitomittomitomtomitomitomtomtomitomtomtomittomittomiitomittomtomitomtomtomtomtomtomtomtomitomtomtomitomittomitomtomtomtomtomitomtomtomtomtomtomtomtomtomtomtomtomitomto...</td>\n",
       "    </tr>\n",
       "    <tr>\n",
       "      <th>1599</th>\n",
       "      <td>I bit my lip.</td>\n",
       "      <td>atomitomiiiititomitomiitomtomitomitomtomiitomiittomititomiiiitomittomitomitomititomitomitomiittomitomitomitomitomitomiittomitomiitomitomitiittomitomiittomittomiitomitomitomitomitomitomitomitomiiti...</td>\n",
       "    </tr>\n",
       "  </tbody>\n",
       "</table>\n",
       "</div>"
      ],
      "text/plain": [
       "              actual  \\\n",
       "1585  I looked down.   \n",
       "1586  I need a coat.   \n",
       "1587  Send it to me.   \n",
       "1588     Let's walk.   \n",
       "1589  Tom is frugal.   \n",
       "1590       It hurts.   \n",
       "1591  Tom isn't old.   \n",
       "1592  Tom was dying.   \n",
       "1593  Tom is my dad.   \n",
       "1594    I'll manage.   \n",
       "1595  It's my fault.   \n",
       "1596   I'm using it.   \n",
       "1597    I want that.   \n",
       "1598  That's a fake.   \n",
       "1599   I bit my lip.   \n",
       "\n",
       "                                                                                                                                                                                                    predicted  \n",
       "1585  atomitomitomitomitomiitomitomitomitomiitomitomitomitomiiitomitomtomitomitomitomitomitomitomitomitomitomitomitomitomitomitomitomitomitomiitomitomiitomitomitomitomiititomitomitomitomitomitomitomitit...  \n",
       "1586  atomitomitomititomitomitomiiititomitomtomiititomiitomitomitiititomitomiitomittomititomitomittomitomitiitiittomiititomitomittomitomitomititomittomitomittomiittomittomitomiititomitiittomitomiittomii...  \n",
       "1587  atomitomiiiitomtomitomtomtomitomitomtomitomtomitomiiiitomitomtomitomitomitomitomtomitomitomitomitomitomitomtomtomtomitomitomtomiitomitomiitomitomtomitomtomtomitomitomiititomitomtomitomitomitomtomt...  \n",
       "1588  aitomiiiitomiiiiiiiitomtomitomiiitomitomiitomiiitomitomiitomitomitomiitomiiiitomitomiitomiitomiitomitomitomitomiitomitomiitomitomitomitomtomiitomiiiitomitomiitomitomiitomitomitomitomiitomitomitomi...  \n",
       "1589  aitomitomitomitomtomitomitomtomitomtomtomitomitomtomitomtomitomtomitomiitomtomitomitomitomitomtomitomitomitomitomitomitomitomitomitomitomitomitomitomiitomitomtomitomtomitomitomitomitomitomtomitomi...  \n",
       "1590  aiiiitomiiiiitomitomtomitomitomiiiitomitomiiiiiiitomitomiiiiiiiiitomiiiiiitomiiiiiitomiiiiiiiiiiiiiitomiiiitomiitomiiiitomiiiiiiitomiiiitomtomiitomtomiiiiitomiiiiiiiiiiiiiiiiiiitomiiiiiiiiiiiiiiii...  \n",
       "1591  aitomitomitomitomtomitomitomtomitomtomtomitomitomtomitomtomitomtomitomitomitomitomtomitomitomitomitomtomitomitomtomitomitomitomitomitomitomitomitomitomiitomitomtomitomtomitomitomitomitomitomtomito...  \n",
       "1592  aitomitomitomitomtomitomitomtomitomtomitomitomiitomitomitomtomitomitomitomtomitomitomitomitomtomitomitomitomitomitomitomitomitomitomitomititomitomitomitomiitomitomtomitomitomitomitomiititomitomito...  \n",
       "1593  aitomitomiititomitomitomtomitomtomtomitomiitomitomittomitomtomitomiitomittomitomitomitomititomtomitomitomitomitomitomitomitomitomittomittomitomitomitiittomitomitomitomiitomitomtomitomitomitomitomi...  \n",
       "1594  atomiitomiitomitomitomiitomitomtomitomiitomitomitomiiiitomtomitomitomitomitomitomitomitomitomitomitomitomitomitomitomitomiitomitomitomitomitomitomiiitomitomitomitomitomitomitomitomitomitomitomitom...  \n",
       "1595  atomiitomitomiitomitomiitomiitomitomitomiiiitomtomitomitomitomitomitomitomitomiitomitomiitomitomiitomitomitomitomitomitomitomitomitomitomitomitomiiitomitomitomitomitomitomitomitomitomitomiitomitom...  \n",
       "1596  atomitomitomitomitomitomiitomitomitomitomitomiitomitomitomiiitomtomitomitomitomitomitomitomitomitomitomitomitomitomitomitomitomiitomitomititomitomitomiitomitomitomitomitomitomitomiititomitomitomit...  \n",
       "1597  atomitomitomitomitomitomitomitomitomitomitomitomittomititomittomitomitomitomittomitomitomittomitomitomititomitomitomitomittomitomitomitiittomitomiittomitomititomitomitomtomitomitomiititomitomitomi...  \n",
       "1598  aitomiiitiiitomittomiitomitomiitomittomitomtomitomitomtomtomitomtomtomittomittomiitomittomtomitomtomtomtomtomtomtomtomitomtomtomitomittomitomtomtomtomtomitomtomtomtomtomtomtomtomtomtomtomtomitomto...  \n",
       "1599  atomitomiiiititomitomiitomtomitomitomtomiitomiittomititomiiiitomittomitomitomititomitomitomiittomitomitomitomitomitomiittomitomiitomitomitiittomitomiittomittomiitomitomitomitomitomitomitomitomiiti...  "
      ]
     },
     "execution_count": 27,
     "metadata": {},
     "output_type": "execute_result"
    }
   ],
   "source": [
    "pred_df.tail(15)"
   ]
  },
  {
   "cell_type": "code",
   "execution_count": null,
   "id": "7acba1b0",
   "metadata": {},
   "outputs": [],
   "source": []
  }
 ],
 "metadata": {
  "kernelspec": {
   "display_name": "Python 3",
   "language": "python",
   "name": "python3"
  },
  "language_info": {
   "codemirror_mode": {
    "name": "ipython",
    "version": 3
   },
   "file_extension": ".py",
   "mimetype": "text/x-python",
   "name": "python",
   "nbconvert_exporter": "python",
   "pygments_lexer": "ipython3",
   "version": "3.8.8"
  }
 },
 "nbformat": 4,
 "nbformat_minor": 5
}
